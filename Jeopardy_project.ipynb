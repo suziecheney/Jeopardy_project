{
 "cells": [
  {
   "cell_type": "code",
   "execution_count": 20,
   "id": "293f1fdf",
   "metadata": {},
   "outputs": [],
   "source": [
    "import pandas as pd\n",
    "pd.set_option('display.max_colwidth', None)"
   ]
  },
  {
   "cell_type": "code",
   "execution_count": 21,
   "id": "5b9e81ea",
   "metadata": {},
   "outputs": [
    {
     "name": "stdout",
     "output_type": "stream",
     "text": [
      "   Show Number    Air Date      Round                         Category  Value  \\\n",
      "0         4680  2004-12-31  Jeopardy!                          HISTORY   $200   \n",
      "1         4680  2004-12-31  Jeopardy!  ESPN's TOP 10 ALL-TIME ATHLETES   $200   \n",
      "2         4680  2004-12-31  Jeopardy!      EVERYBODY TALKS ABOUT IT...   $200   \n",
      "3         4680  2004-12-31  Jeopardy!                 THE COMPANY LINE   $200   \n",
      "4         4680  2004-12-31  Jeopardy!              EPITAPHS & TRIBUTES   $200   \n",
      "\n",
      "                                                                                                      Question  \\\n",
      "0             For the last 8 years of his life, Galileo was under house arrest for espousing this man's theory   \n",
      "1  No. 2: 1912 Olympian; football star at Carlisle Indian School; 6 MLB seasons with the Reds, Giants & Braves   \n",
      "2                     The city of Yuma in this state has a record average of 4,055 hours of sunshine each year   \n",
      "3                         In 1963, live on \"The Art Linkletter Show\", this company served its billionth burger   \n",
      "4     Signer of the Dec. of Indep., framer of the Constitution of Mass., second President of the United States   \n",
      "\n",
      "       Answer  \n",
      "0  Copernicus  \n",
      "1  Jim Thorpe  \n",
      "2     Arizona  \n",
      "3  McDonald's  \n",
      "4  John Adams  \n"
     ]
    }
   ],
   "source": [
    "data = pd.read_csv('jeopardy.csv')\n",
    "\n",
    "print(data.head(5))"
   ]
  },
  {
   "cell_type": "code",
   "execution_count": 22,
   "id": "3e216354",
   "metadata": {},
   "outputs": [
    {
     "name": "stdout",
     "output_type": "stream",
     "text": [
      "   show_number    air_date      round                         category value  \\\n",
      "0         4680  2004-12-31  Jeopardy!                          HISTORY  $200   \n",
      "1         4680  2004-12-31  Jeopardy!  ESPN's TOP 10 ALL-TIME ATHLETES  $200   \n",
      "2         4680  2004-12-31  Jeopardy!      EVERYBODY TALKS ABOUT IT...  $200   \n",
      "3         4680  2004-12-31  Jeopardy!                 THE COMPANY LINE  $200   \n",
      "4         4680  2004-12-31  Jeopardy!              EPITAPHS & TRIBUTES  $200   \n",
      "\n",
      "                                                                                                      question  \\\n",
      "0             For the last 8 years of his life, Galileo was under house arrest for espousing this man's theory   \n",
      "1  No. 2: 1912 Olympian; football star at Carlisle Indian School; 6 MLB seasons with the Reds, Giants & Braves   \n",
      "2                     The city of Yuma in this state has a record average of 4,055 hours of sunshine each year   \n",
      "3                         In 1963, live on \"The Art Linkletter Show\", this company served its billionth burger   \n",
      "4     Signer of the Dec. of Indep., framer of the Constitution of Mass., second President of the United States   \n",
      "\n",
      "       answer  \n",
      "0  Copernicus  \n",
      "1  Jim Thorpe  \n",
      "2     Arizona  \n",
      "3  McDonald's  \n",
      "4  John Adams  \n"
     ]
    }
   ],
   "source": [
    "data_edit = data.rename(columns={\"Show Number\": \"show_number\", \" Air Date\": \"air_date\", \" Round\": \"round\", \" Category\": \"category\", \" Value\": \"value\", \" Question\": \"question\", \" Answer\": \"answer\"})\n",
    "print(data_edit.head(5))"
   ]
  },
  {
   "cell_type": "code",
   "execution_count": 33,
   "id": "ea813bae",
   "metadata": {},
   "outputs": [
    {
     "name": "stdout",
     "output_type": "stream",
     "text": [
      "9187                                                                                                                 This service quarantines animals & can stop you from bringing sausages into the country\n",
      "62533                                           An island named for the animal seen <a href=\"http://www.j-archive.com/media/2000-03-10_J_01.jpg\" target=\"_blank\">here</a> belongs to this country [kangaroo]\n",
      "89868                                                                                                            Rat & monkey are just 2 of the animals in this most populous country's 12-year zodiac cycle\n",
      "117272    Ferdinand Marcos would have known the animal seen <a href=\"http://www.j-archive.com/media/2012-01-12_DJ_24.jpg\" target=\"_blank\">here</a> is known as this country's tarsier; here's looking at you\n",
      "187307                                                                                    The billion-dollar empire of animal feed titans the Liu brothers makes them one of this country's richest families\n",
      "Name: question, dtype: object\n",
      "779.5241077019411\n"
     ]
    }
   ],
   "source": [
    "#Function to search for words in the category column\n",
    "\n",
    "def filtered_data(data, words):\n",
    "    \n",
    "    my_lambda = lambda x: all(word.lower() in x.lower() for word in words)\n",
    "    \n",
    "    return data.loc[data['question'].apply(my_lambda)]\n",
    "\n",
    "filtered = filtered_data(data_edit, ['Animal', 'Country'])\n",
    "\n",
    "print(filtered[\"question\"])\n",
    "\n",
    "# Convert value column from a strings to a floats for statistical analysis \n",
    "\n",
    "data_edit[\"value_float\"] = data_edit[\"value\"].apply(lambda x:(float(x[1:].replace(',','')) if x != \"None\" else 0))\n",
    "                                                    \n",
    "\n",
    "filtered_new = filtered_data(data_edit, [\"Town\"])\n",
    "print(filtered_new[\"value_float\"].mean())"
   ]
  },
  {
   "cell_type": "code",
   "execution_count": 35,
   "id": "3c2ddb60",
   "metadata": {},
   "outputs": [
    {
     "name": "stdout",
     "output_type": "stream",
     "text": [
      "China                             216\n",
      "Australia                         215\n",
      "Japan                             196\n",
      "Chicago                           194\n",
      "France                            193\n",
      "                                 ... \n",
      "the barre (or bar)                  1\n",
      "grams                               1\n",
      "the Hopis                           1\n",
      "free parking                        1\n",
      "Grigori Alexandrovich Potemkin      1\n",
      "Name: answer, Length: 88268, dtype: int64\n"
     ]
    }
   ],
   "source": [
    "def count_unique_answers(data):\n",
    "    return data[\"answer\"].value_counts()\n",
    "\n",
    "print(count_unique_answers(data_edit))"
   ]
  },
  {
   "cell_type": "code",
   "execution_count": null,
   "id": "c8aa6d72",
   "metadata": {},
   "outputs": [],
   "source": []
  },
  {
   "cell_type": "code",
   "execution_count": null,
   "id": "006a84a2",
   "metadata": {},
   "outputs": [],
   "source": []
  }
 ],
 "metadata": {
  "kernelspec": {
   "display_name": "Python 3 (ipykernel)",
   "language": "python",
   "name": "python3"
  },
  "language_info": {
   "codemirror_mode": {
    "name": "ipython",
    "version": 3
   },
   "file_extension": ".py",
   "mimetype": "text/x-python",
   "name": "python",
   "nbconvert_exporter": "python",
   "pygments_lexer": "ipython3",
   "version": "3.9.12"
  }
 },
 "nbformat": 4,
 "nbformat_minor": 5
}
